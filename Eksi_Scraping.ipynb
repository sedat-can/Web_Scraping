{
 "cells": [
  {
   "attachments": {},
   "cell_type": "markdown",
   "metadata": {},
   "source": [
    "Downloading entries under 'Hekim Göçü' heading from Eksi Sözlük website and saving it as csv file"
   ]
  },
  {
   "cell_type": "code",
   "execution_count": 5,
   "metadata": {},
   "outputs": [],
   "source": [
    "import requests\n",
    "from bs4 import BeautifulSoup  \n",
    "import time \n",
    "import numpy as np\n",
    "import pandas as pd\n",
    "import requests"
   ]
  },
  {
   "attachments": {},
   "cell_type": "markdown",
   "metadata": {},
   "source": [
    "request data from website"
   ]
  },
  {
   "cell_type": "code",
   "execution_count": 4,
   "metadata": {},
   "outputs": [],
   "source": [
    "\n",
    "url='https://eksisozluk.com/hekimler-gocu--7024029'\n",
    "response = requests.get(url)\n",
    "headers={'User-Agent': 'Mozilla/5.0 (Platform; Security; OS-or-CPU; Localization; rv:1.4) Gecko/20030624 Netscape/7.1 (ax)'}"
   ]
  },
  {
   "cell_type": "code",
   "execution_count": 6,
   "metadata": {},
   "outputs": [],
   "source": [
    "Y = []\n",
    "for i in range(1, 15):\n",
    "  response = requests.get(url + \"?p=\" + str(i), headers = headers)\n",
    "  time.sleep(2)\n",
    "  soup = BeautifulSoup(response.content, \"html.parser\")\n",
    "\n",
    "  entry_divs = soup.find_all(\"div\", {\"class\":\"content\"})\n",
    "  for a in entry_divs:\n",
    "     Y.append(a.get_text())\n",
    "df = pd.DataFrame (Y)\n",
    "df.to_csv('eksc.csv')"
   ]
  }
 ],
 "metadata": {
  "kernelspec": {
   "display_name": "Python 3",
   "language": "python",
   "name": "python3"
  },
  "language_info": {
   "codemirror_mode": {
    "name": "ipython",
    "version": 3
   },
   "file_extension": ".py",
   "mimetype": "text/x-python",
   "name": "python",
   "nbconvert_exporter": "python",
   "pygments_lexer": "ipython3",
   "version": "3.8.2"
  },
  "orig_nbformat": 4,
  "vscode": {
   "interpreter": {
    "hash": "d3a519604e1954845e20bfd0c29f0d4156f2d7bcd8a7aba0914bfa494d01add2"
   }
  }
 },
 "nbformat": 4,
 "nbformat_minor": 2
}
